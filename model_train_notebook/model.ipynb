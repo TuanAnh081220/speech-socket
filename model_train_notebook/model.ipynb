{
  "nbformat": 4,
  "nbformat_minor": 0,
  "metadata": {
    "colab": {
      "name": "model.ipynb",
      "provenance": []
    },
    "kernelspec": {
      "name": "python3",
      "display_name": "Python 3"
    },
    "language_info": {
      "name": "python"
    },
    "accelerator": "GPU",
    "gpuClass": "standard"
  },
  "cells": [
    {
      "cell_type": "code",
      "execution_count": 147,
      "metadata": {
        "id": "opAamMSQLhmR"
      },
      "outputs": [],
      "source": [
        "import os\n",
        "import librosa   \n",
        "import IPython.display as ipd\n",
        "import matplotlib.pyplot as plt\n",
        "import numpy as np\n",
        "from scipy.io import wavfile \n",
        "import warnings\n",
        "warnings.filterwarnings(\"ignore\")\n",
        "from sklearn.preprocessing import LabelEncoder\n",
        "from keras.layers import Dense, Dropout, Flatten, Conv1D, Input, MaxPooling1D\n",
        "from keras.models import Model \n",
        "from keras.callbacks import EarlyStopping, ModelCheckpoint\n",
        "from keras import backend as K\n",
        "from matplotlib import pyplot \n",
        "import random\n",
        "import soundfile as sf"
      ]
    },
    {
      "cell_type": "code",
      "source": [
        "labels = ['ban', 'a', 'trai', 'phai']\n",
        "labels_silent = ['silent']"
      ],
      "metadata": {
        "id": "paqZMH_EgZPZ"
      },
      "execution_count": 148,
      "outputs": []
    },
    {
      "cell_type": "code",
      "source": [
        "max_length = 30000"
      ],
      "metadata": {
        "id": "7rYshiK5WsQ-"
      },
      "execution_count": 149,
      "outputs": []
    },
    {
      "cell_type": "code",
      "source": [
        "train_audio_path = '/content/drive/MyDrive/15 (Nhóm có STT 14 trong danh sách)/train'\n",
        "\n",
        "all_wave = []\n",
        "all_label = []\n",
        "max_length_array = []\n",
        "dict_ = {\"phai\": 0, \"trai\": 0, \"ban\": 0, \"a\": 0}\n",
        "for label in labels:\n",
        "\n",
        "    print(label)\n",
        "    waves = [f for f in os.listdir(train_audio_path + '/'+ label) if f.endswith('.wav')]\n",
        "    for wav in waves:\n",
        "      try:\n",
        "        samples, sample_rate = librosa.load(train_audio_path + '/' + label + '/' + wav, sr = 22050)\n",
        "        # samples = librosa.resample(samples, sample_rate, 8000)\n",
        "        max_length_array.append(len(samples))\n",
        "        if len(samples) <= max_length:\n",
        "          samples = np.pad(samples, (0, max_length - len(samples)%max_length), mode='constant')\n",
        "        else:\n",
        "          samples = samples[:max_length]\n",
        "        if(len(samples)== max_length) : \n",
        "            all_wave.append(samples)\n",
        "            all_label.append(label)\n",
        "            dict_[label] += 1\n",
        "      except:\n",
        "        continue"
      ],
      "metadata": {
        "colab": {
          "base_uri": "https://localhost:8080/"
        },
        "id": "qyqH8i13gWpD",
        "outputId": "754d20e4-f850-4994-85f2-2e83fe455c6f"
      },
      "execution_count": 150,
      "outputs": [
        {
          "output_type": "stream",
          "name": "stdout",
          "text": [
            "ban\n",
            "a\n",
            "trai\n",
            "phai\n"
          ]
        }
      ]
    },
    {
      "cell_type": "code",
      "source": [
        "dict_"
      ],
      "metadata": {
        "id": "luykEXDsyHfV",
        "colab": {
          "base_uri": "https://localhost:8080/"
        },
        "outputId": "9546ab79-6a3f-44c3-f56e-dc5e8e920e3e"
      },
      "execution_count": 151,
      "outputs": [
        {
          "output_type": "execute_result",
          "data": {
            "text/plain": [
              "{'a': 306, 'ban': 286, 'phai': 287, 'trai': 319}"
            ]
          },
          "metadata": {},
          "execution_count": 151
        }
      ]
    },
    {
      "cell_type": "code",
      "source": [
        "names = os.listdir('/content/drive/MyDrive/15 (Nhóm có STT 14 trong danh sách)/data')"
      ],
      "metadata": {
        "id": "4QU6FsA4BDWj"
      },
      "execution_count": 152,
      "outputs": []
    },
    {
      "cell_type": "code",
      "source": [
        "for name in names:\n",
        "  train_audio_path = '/content/drive/MyDrive/15 (Nhóm có STT 14 trong danh sách)/data/' + name\n",
        "\n",
        "  for label in labels:\n",
        "      waves = [f for f in os.listdir(train_audio_path + '/'+ label) if f.endswith('.wav')]\n",
        "      for wav in waves:\n",
        "        try:\n",
        "          samples, sample_rate = librosa.load(train_audio_path + '/' + label + '/' + wav, sr = 22050)\n",
        "          # samples = librosa.resample(samples, sample_rate, 8000) \n",
        "          max_length_array.append(len(samples))\n",
        "       \n",
        "          if len(samples) <= max_length:\n",
        "            samples = np.pad(samples, (0, max_length - len(samples)%max_length), mode='constant')\n",
        "          else:\n",
        "            samples = samples[:max_length]\n",
        "          if(len(samples)== max_length) : \n",
        "              all_wave.append(samples)\n",
        "              all_label.append(label)\n",
        "              dict_[label] += 1\n",
        "\n",
        "        except:\n",
        "          continue"
      ],
      "metadata": {
        "id": "Q6OR-8WgALMw"
      },
      "execution_count": 153,
      "outputs": []
    },
    {
      "cell_type": "code",
      "source": [
        "dict_['silent'] = 0"
      ],
      "metadata": {
        "id": "eccrZpjm2x7d"
      },
      "execution_count": 154,
      "outputs": []
    },
    {
      "cell_type": "code",
      "source": [
        "train_audio_path = '/content/drive/MyDrive/15 (Nhóm có STT 14 trong danh sách)/train/silent/'\n",
        "for label in labels_silent:\n",
        "    print(label)\n",
        "    waves = [f for f in os.listdir(train_audio_path + '/'+ label) if f.endswith('.wav')]\n",
        "    for wav in waves:\n",
        "      try:\n",
        "        samples, sample_rate = librosa.load(train_audio_path + '/' + label + '/' + wav, sr = 22050)\n",
        "        # samples = librosa.resample(samples, sample_rate, 8000)\n",
        "        max_length_array.append(len(samples))\n",
        "        if len(samples) <= max_length:\n",
        "          samples = np.pad(samples, (0, max_length - len(samples)%max_length), mode='constant')\n",
        "        else:\n",
        "          samples = samples[:max_length]\n",
        "        if(len(samples)== max_length) : \n",
        "            all_wave.append(samples)\n",
        "            all_label.append(label)\n",
        "            dict_[label] += 1\n",
        "      except:\n",
        "        continue"
      ],
      "metadata": {
        "id": "XUX3gZTf2yb8",
        "colab": {
          "base_uri": "https://localhost:8080/"
        },
        "outputId": "2c566b2c-4d7e-4013-e96e-6f2a27b1d876"
      },
      "execution_count": 155,
      "outputs": [
        {
          "output_type": "stream",
          "name": "stdout",
          "text": [
            "silent\n"
          ]
        }
      ]
    },
    {
      "cell_type": "code",
      "source": [
        "dict_"
      ],
      "metadata": {
        "id": "f5Ca3j7eQyJt",
        "colab": {
          "base_uri": "https://localhost:8080/"
        },
        "outputId": "3e6e3695-8118-4dcd-905d-a69c039db898"
      },
      "execution_count": 156,
      "outputs": [
        {
          "output_type": "execute_result",
          "data": {
            "text/plain": [
              "{'a': 1214, 'ban': 1170, 'phai': 1137, 'silent': 2121, 'trai': 1267}"
            ]
          },
          "metadata": {},
          "execution_count": 156
        }
      ]
    },
    {
      "cell_type": "code",
      "source": [
        "from sklearn.preprocessing import LabelEncoder\n",
        "le = LabelEncoder()\n",
        "y=le.fit_transform(all_label)\n",
        "classes= list(le.classes_)"
      ],
      "metadata": {
        "id": "8M9p5ZU6dIiq"
      },
      "execution_count": 157,
      "outputs": []
    },
    {
      "cell_type": "code",
      "source": [
        "classes"
      ],
      "metadata": {
        "colab": {
          "base_uri": "https://localhost:8080/"
        },
        "id": "nlDQvEP2yEHg",
        "outputId": "56048bdd-c27c-4145-c9a4-d17e148335bc"
      },
      "execution_count": 160,
      "outputs": [
        {
          "output_type": "execute_result",
          "data": {
            "text/plain": [
              "['a', 'ban', 'phai', 'silent', 'trai']"
            ]
          },
          "metadata": {},
          "execution_count": 160
        }
      ]
    },
    {
      "cell_type": "code",
      "source": [
        "all_labels = ['a', 'ban', 'phai', 'trai', 'silent']"
      ],
      "metadata": {
        "id": "3aApd4fF35g8"
      },
      "execution_count": 162,
      "outputs": []
    },
    {
      "cell_type": "code",
      "source": [
        "from keras.utils import np_utils\n",
        "y=np_utils.to_categorical(y, num_classes=len(all_labels))\n",
        "all_wave = np.array(all_wave).reshape(-1,max_length,1)"
      ],
      "metadata": {
        "id": "IYSPEMaNd5Ts"
      },
      "execution_count": 163,
      "outputs": []
    },
    {
      "cell_type": "code",
      "source": [
        "from sklearn.model_selection import train_test_split\n",
        "x_tr, x_val, y_tr, y_val = train_test_split(np.array(all_wave),np.array(y),stratify=y,test_size = 0.2,random_state=777,shuffle=True)"
      ],
      "metadata": {
        "id": "XYH7PTaPdtoq"
      },
      "execution_count": 164,
      "outputs": []
    },
    {
      "cell_type": "code",
      "source": [
        "x_tr.shape, x_val.shape"
      ],
      "metadata": {
        "colab": {
          "base_uri": "https://localhost:8080/"
        },
        "id": "8YL1kAcd4fiO",
        "outputId": "22fcc9b6-0382-4eb1-adac-8324ff5f7877"
      },
      "execution_count": 165,
      "outputs": [
        {
          "output_type": "execute_result",
          "data": {
            "text/plain": [
              "((5527, 30000, 1), (1382, 30000, 1))"
            ]
          },
          "metadata": {},
          "execution_count": 165
        }
      ]
    },
    {
      "cell_type": "code",
      "source": [
        "from sklearn.preprocessing import StandardScaler\n",
        "scaler = StandardScaler()\n",
        "x_tr = scaler.fit_transform(x_tr.reshape(-1, 1)).reshape(5527, max_length, 1)\n",
        "x_val = scaler.fit_transform(x_val.reshape(-1, 1)).reshape(1382, max_length, 1)"
      ],
      "metadata": {
        "id": "92eHR9W04BjD"
      },
      "execution_count": 166,
      "outputs": []
    },
    {
      "cell_type": "code",
      "source": [
        "K.clear_session()\n",
        "\n",
        "inputs = Input(shape=(max_length,1))\n",
        "\n",
        "#First Conv1D layer\n",
        "conv = Conv1D(8,13, padding='valid', activation='relu', strides=1)(inputs)\n",
        "conv = MaxPooling1D(3)(conv)\n",
        "conv = Dropout(0.3)(conv)\n",
        "\n",
        "#Second Conv1D layer\n",
        "conv = Conv1D(16, 11, padding='valid', activation='relu', strides=1)(conv)\n",
        "conv = MaxPooling1D(3)(conv)\n",
        "conv = Dropout(0.3)(conv)\n",
        "\n",
        "#Third Conv1D layer\n",
        "conv = Conv1D(32, 9, padding='valid', activation='relu', strides=1)(conv)\n",
        "conv = MaxPooling1D(3)(conv)\n",
        "conv = Dropout(0.3)(conv)\n",
        "\n",
        "#Fourth Conv1D layer\n",
        "conv = Conv1D(64, 7, padding='valid', activation='relu', strides=1)(conv)\n",
        "conv = MaxPooling1D(3)(conv)\n",
        "conv = Dropout(0.3)(conv)\n",
        "\n",
        "#Flatten layer\n",
        "conv = Flatten()(conv)\n",
        "\n",
        "#Dense Layer 1\n",
        "conv = Dense(256, activation='relu')(conv)\n",
        "conv = Dropout(0.3)(conv)\n",
        "\n",
        "#Dense Layer 2\n",
        "conv = Dense(128, activation='relu')(conv)\n",
        "conv = Dropout(0.3)(conv)\n",
        "\n",
        "outputs = Dense(len(all_labels), activation='softmax')(conv)\n",
        "\n",
        "model = Model(inputs, outputs)\n",
        "model.summary()"
      ],
      "metadata": {
        "id": "_0mulHoxd30W",
        "colab": {
          "base_uri": "https://localhost:8080/"
        },
        "outputId": "92f80c96-d65c-46d7-916c-53c891c3d49f"
      },
      "execution_count": 167,
      "outputs": [
        {
          "output_type": "stream",
          "name": "stdout",
          "text": [
            "Model: \"model\"\n",
            "_________________________________________________________________\n",
            " Layer (type)                Output Shape              Param #   \n",
            "=================================================================\n",
            " input_1 (InputLayer)        [(None, 30000, 1)]        0         \n",
            "                                                                 \n",
            " conv1d (Conv1D)             (None, 29988, 8)          112       \n",
            "                                                                 \n",
            " max_pooling1d (MaxPooling1D  (None, 9996, 8)          0         \n",
            " )                                                               \n",
            "                                                                 \n",
            " dropout (Dropout)           (None, 9996, 8)           0         \n",
            "                                                                 \n",
            " conv1d_1 (Conv1D)           (None, 9986, 16)          1424      \n",
            "                                                                 \n",
            " max_pooling1d_1 (MaxPooling  (None, 3328, 16)         0         \n",
            " 1D)                                                             \n",
            "                                                                 \n",
            " dropout_1 (Dropout)         (None, 3328, 16)          0         \n",
            "                                                                 \n",
            " conv1d_2 (Conv1D)           (None, 3320, 32)          4640      \n",
            "                                                                 \n",
            " max_pooling1d_2 (MaxPooling  (None, 1106, 32)         0         \n",
            " 1D)                                                             \n",
            "                                                                 \n",
            " dropout_2 (Dropout)         (None, 1106, 32)          0         \n",
            "                                                                 \n",
            " conv1d_3 (Conv1D)           (None, 1100, 64)          14400     \n",
            "                                                                 \n",
            " max_pooling1d_3 (MaxPooling  (None, 366, 64)          0         \n",
            " 1D)                                                             \n",
            "                                                                 \n",
            " dropout_3 (Dropout)         (None, 366, 64)           0         \n",
            "                                                                 \n",
            " flatten (Flatten)           (None, 23424)             0         \n",
            "                                                                 \n",
            " dense (Dense)               (None, 256)               5996800   \n",
            "                                                                 \n",
            " dropout_4 (Dropout)         (None, 256)               0         \n",
            "                                                                 \n",
            " dense_1 (Dense)             (None, 128)               32896     \n",
            "                                                                 \n",
            " dropout_5 (Dropout)         (None, 128)               0         \n",
            "                                                                 \n",
            " dense_2 (Dense)             (None, 5)                 645       \n",
            "                                                                 \n",
            "=================================================================\n",
            "Total params: 6,050,917\n",
            "Trainable params: 6,050,917\n",
            "Non-trainable params: 0\n",
            "_________________________________________________________________\n"
          ]
        }
      ]
    },
    {
      "cell_type": "code",
      "source": [
        "model.compile(loss='categorical_crossentropy',optimizer='adam',metrics=['accuracy'])\n",
        "es = EarlyStopping(monitor='val_loss', mode='min', verbose=1, patience=10, min_delta=0.0001) \n",
        "mc = ModelCheckpoint('best_model.hdf5', monitor='val_acc', verbose=1, save_best_only=True, mode='max')\n",
        "history=model.fit(x_tr, y_tr ,epochs=100, callbacks=[es,mc], batch_size=32, validation_data=(x_val,y_val))"
      ],
      "metadata": {
        "id": "eeDGLIuKbl4X",
        "colab": {
          "base_uri": "https://localhost:8080/"
        },
        "outputId": "a3de6ed2-2893-4329-b95d-6b70cf12128d"
      },
      "execution_count": 168,
      "outputs": [
        {
          "output_type": "stream",
          "name": "stdout",
          "text": [
            "Epoch 1/100\n",
            "172/173 [============================>.] - ETA: 0s - loss: 1.2497 - accuracy: 0.4913WARNING:tensorflow:Can save best model only with val_acc available, skipping.\n",
            "173/173 [==============================] - 6s 29ms/step - loss: 1.2483 - accuracy: 0.4916 - val_loss: 1.0229 - val_accuracy: 0.5658\n",
            "Epoch 2/100\n",
            "172/173 [============================>.] - ETA: 0s - loss: 0.8445 - accuracy: 0.6644WARNING:tensorflow:Can save best model only with val_acc available, skipping.\n",
            "173/173 [==============================] - 4s 25ms/step - loss: 0.8430 - accuracy: 0.6649 - val_loss: 0.6981 - val_accuracy: 0.7467\n",
            "Epoch 3/100\n",
            "173/173 [==============================] - ETA: 0s - loss: 0.6454 - accuracy: 0.7577WARNING:tensorflow:Can save best model only with val_acc available, skipping.\n",
            "173/173 [==============================] - 4s 24ms/step - loss: 0.6454 - accuracy: 0.7577 - val_loss: 0.6160 - val_accuracy: 0.7967\n",
            "Epoch 4/100\n",
            "172/173 [============================>.] - ETA: 0s - loss: 0.5284 - accuracy: 0.8103WARNING:tensorflow:Can save best model only with val_acc available, skipping.\n",
            "173/173 [==============================] - 4s 24ms/step - loss: 0.5279 - accuracy: 0.8107 - val_loss: 0.4981 - val_accuracy: 0.8517\n",
            "Epoch 5/100\n",
            "171/173 [============================>.] - ETA: 0s - loss: 0.4193 - accuracy: 0.8527WARNING:tensorflow:Can save best model only with val_acc available, skipping.\n",
            "173/173 [==============================] - 4s 24ms/step - loss: 0.4192 - accuracy: 0.8527 - val_loss: 0.4600 - val_accuracy: 0.8611\n",
            "Epoch 6/100\n",
            "173/173 [==============================] - ETA: 0s - loss: 0.3620 - accuracy: 0.8782WARNING:tensorflow:Can save best model only with val_acc available, skipping.\n",
            "173/173 [==============================] - 4s 25ms/step - loss: 0.3620 - accuracy: 0.8782 - val_loss: 0.3642 - val_accuracy: 0.8828\n",
            "Epoch 7/100\n",
            "171/173 [============================>.] - ETA: 0s - loss: 0.2973 - accuracy: 0.9030WARNING:tensorflow:Can save best model only with val_acc available, skipping.\n",
            "173/173 [==============================] - 4s 24ms/step - loss: 0.2967 - accuracy: 0.9036 - val_loss: 0.3197 - val_accuracy: 0.9059\n",
            "Epoch 8/100\n",
            "172/173 [============================>.] - ETA: 0s - loss: 0.2580 - accuracy: 0.9164WARNING:tensorflow:Can save best model only with val_acc available, skipping.\n",
            "173/173 [==============================] - 4s 24ms/step - loss: 0.2581 - accuracy: 0.9164 - val_loss: 0.2973 - val_accuracy: 0.9132\n",
            "Epoch 9/100\n",
            "171/173 [============================>.] - ETA: 0s - loss: 0.2221 - accuracy: 0.9269WARNING:tensorflow:Can save best model only with val_acc available, skipping.\n",
            "173/173 [==============================] - 4s 25ms/step - loss: 0.2216 - accuracy: 0.9271 - val_loss: 0.2924 - val_accuracy: 0.9103\n",
            "Epoch 10/100\n",
            "171/173 [============================>.] - ETA: 0s - loss: 0.1845 - accuracy: 0.9426WARNING:tensorflow:Can save best model only with val_acc available, skipping.\n",
            "173/173 [==============================] - 4s 24ms/step - loss: 0.1844 - accuracy: 0.9428 - val_loss: 0.2390 - val_accuracy: 0.9291\n",
            "Epoch 11/100\n",
            "172/173 [============================>.] - ETA: 0s - loss: 0.1912 - accuracy: 0.9411WARNING:tensorflow:Can save best model only with val_acc available, skipping.\n",
            "173/173 [==============================] - 4s 24ms/step - loss: 0.1908 - accuracy: 0.9412 - val_loss: 0.2398 - val_accuracy: 0.9240\n",
            "Epoch 12/100\n",
            "172/173 [============================>.] - ETA: 0s - loss: 0.1488 - accuracy: 0.9537WARNING:tensorflow:Can save best model only with val_acc available, skipping.\n",
            "173/173 [==============================] - 4s 24ms/step - loss: 0.1488 - accuracy: 0.9537 - val_loss: 0.2501 - val_accuracy: 0.9226\n",
            "Epoch 13/100\n",
            "171/173 [============================>.] - ETA: 0s - loss: 0.1480 - accuracy: 0.9519WARNING:tensorflow:Can save best model only with val_acc available, skipping.\n",
            "173/173 [==============================] - 4s 24ms/step - loss: 0.1485 - accuracy: 0.9519 - val_loss: 0.2213 - val_accuracy: 0.9392\n",
            "Epoch 14/100\n",
            "171/173 [============================>.] - ETA: 0s - loss: 0.1239 - accuracy: 0.9618WARNING:tensorflow:Can save best model only with val_acc available, skipping.\n",
            "173/173 [==============================] - 4s 24ms/step - loss: 0.1234 - accuracy: 0.9618 - val_loss: 0.2276 - val_accuracy: 0.9436\n",
            "Epoch 15/100\n",
            "172/173 [============================>.] - ETA: 0s - loss: 0.1208 - accuracy: 0.9637WARNING:tensorflow:Can save best model only with val_acc available, skipping.\n",
            "173/173 [==============================] - 4s 24ms/step - loss: 0.1218 - accuracy: 0.9633 - val_loss: 0.2776 - val_accuracy: 0.9291\n",
            "Epoch 16/100\n",
            "172/173 [============================>.] - ETA: 0s - loss: 0.1039 - accuracy: 0.9668WARNING:tensorflow:Can save best model only with val_acc available, skipping.\n",
            "173/173 [==============================] - 4s 24ms/step - loss: 0.1037 - accuracy: 0.9669 - val_loss: 0.2376 - val_accuracy: 0.9392\n",
            "Epoch 17/100\n",
            "171/173 [============================>.] - ETA: 0s - loss: 0.1108 - accuracy: 0.9698WARNING:tensorflow:Can save best model only with val_acc available, skipping.\n",
            "173/173 [==============================] - 4s 24ms/step - loss: 0.1101 - accuracy: 0.9701 - val_loss: 0.2469 - val_accuracy: 0.9407\n",
            "Epoch 18/100\n",
            "172/173 [============================>.] - ETA: 0s - loss: 0.0945 - accuracy: 0.9706WARNING:tensorflow:Can save best model only with val_acc available, skipping.\n",
            "173/173 [==============================] - 4s 26ms/step - loss: 0.0950 - accuracy: 0.9705 - val_loss: 0.2602 - val_accuracy: 0.9298\n",
            "Epoch 19/100\n",
            "173/173 [==============================] - ETA: 0s - loss: 0.0937 - accuracy: 0.9730WARNING:tensorflow:Can save best model only with val_acc available, skipping.\n",
            "173/173 [==============================] - 4s 26ms/step - loss: 0.0937 - accuracy: 0.9730 - val_loss: 0.2020 - val_accuracy: 0.9421\n",
            "Epoch 20/100\n",
            "172/173 [============================>.] - ETA: 0s - loss: 0.0832 - accuracy: 0.9769WARNING:tensorflow:Can save best model only with val_acc available, skipping.\n",
            "173/173 [==============================] - 4s 24ms/step - loss: 0.0832 - accuracy: 0.9768 - val_loss: 0.2460 - val_accuracy: 0.9392\n",
            "Epoch 21/100\n",
            "172/173 [============================>.] - ETA: 0s - loss: 0.0964 - accuracy: 0.9735WARNING:tensorflow:Can save best model only with val_acc available, skipping.\n",
            "173/173 [==============================] - 4s 24ms/step - loss: 0.0966 - accuracy: 0.9734 - val_loss: 0.2354 - val_accuracy: 0.9407\n",
            "Epoch 22/100\n",
            "171/173 [============================>.] - ETA: 0s - loss: 0.0772 - accuracy: 0.9770WARNING:tensorflow:Can save best model only with val_acc available, skipping.\n",
            "173/173 [==============================] - 4s 24ms/step - loss: 0.0767 - accuracy: 0.9772 - val_loss: 0.2349 - val_accuracy: 0.9486\n",
            "Epoch 23/100\n",
            "171/173 [============================>.] - ETA: 0s - loss: 0.0784 - accuracy: 0.9759WARNING:tensorflow:Can save best model only with val_acc available, skipping.\n",
            "173/173 [==============================] - 4s 24ms/step - loss: 0.0777 - accuracy: 0.9761 - val_loss: 0.2242 - val_accuracy: 0.9501\n",
            "Epoch 24/100\n",
            "171/173 [============================>.] - ETA: 0s - loss: 0.0790 - accuracy: 0.9768WARNING:tensorflow:Can save best model only with val_acc available, skipping.\n",
            "173/173 [==============================] - 4s 24ms/step - loss: 0.0787 - accuracy: 0.9767 - val_loss: 0.2400 - val_accuracy: 0.9465\n",
            "Epoch 25/100\n",
            "171/173 [============================>.] - ETA: 0s - loss: 0.0543 - accuracy: 0.9828WARNING:tensorflow:Can save best model only with val_acc available, skipping.\n",
            "173/173 [==============================] - 4s 24ms/step - loss: 0.0542 - accuracy: 0.9828 - val_loss: 0.2329 - val_accuracy: 0.9537\n",
            "Epoch 26/100\n",
            "172/173 [============================>.] - ETA: 0s - loss: 0.0484 - accuracy: 0.9860WARNING:tensorflow:Can save best model only with val_acc available, skipping.\n",
            "173/173 [==============================] - 4s 24ms/step - loss: 0.0489 - accuracy: 0.9857 - val_loss: 0.3369 - val_accuracy: 0.9428\n",
            "Epoch 27/100\n",
            "171/173 [============================>.] - ETA: 0s - loss: 0.0774 - accuracy: 0.9783WARNING:tensorflow:Can save best model only with val_acc available, skipping.\n",
            "173/173 [==============================] - 4s 24ms/step - loss: 0.0769 - accuracy: 0.9785 - val_loss: 0.2642 - val_accuracy: 0.9450\n",
            "Epoch 28/100\n",
            "172/173 [============================>.] - ETA: 0s - loss: 0.0404 - accuracy: 0.9884WARNING:tensorflow:Can save best model only with val_acc available, skipping.\n",
            "173/173 [==============================] - 4s 24ms/step - loss: 0.0402 - accuracy: 0.9884 - val_loss: 0.3136 - val_accuracy: 0.9428\n",
            "Epoch 29/100\n",
            "172/173 [============================>.] - ETA: 0s - loss: 0.0709 - accuracy: 0.9802WARNING:tensorflow:Can save best model only with val_acc available, skipping.\n",
            "173/173 [==============================] - 4s 24ms/step - loss: 0.0706 - accuracy: 0.9803 - val_loss: 0.2253 - val_accuracy: 0.9493\n",
            "Epoch 29: early stopping\n"
          ]
        }
      ]
    },
    {
      "cell_type": "code",
      "source": [
        "pyplot.plot(history.history['loss'], label='train') \n",
        "pyplot.plot(history.history['val_loss'], label='test') \n",
        "pyplot.legend()\n",
        "pyplot.show()"
      ],
      "metadata": {
        "colab": {
          "base_uri": "https://localhost:8080/",
          "height": 265
        },
        "id": "1Rs_jlHObqPF",
        "outputId": "dabf887b-615d-4038-8cec-728befb27988"
      },
      "execution_count": 169,
      "outputs": [
        {
          "output_type": "display_data",
          "data": {
            "text/plain": [
              "<Figure size 432x288 with 1 Axes>"
            ],
            "image/png": "[encoded data removed]"
          },
          "metadata": {}
        }
      ]
    },
    {
      "cell_type": "code",
      "source": [
        "pyplot.plot(history.history['accuracy'], label='train') \n",
        "pyplot.plot(history.history['val_accuracy'], label='test') \n",
        "pyplot.legend()\n",
        "pyplot.show()"
      ],
      "metadata": {
        "colab": {
          "base_uri": "https://localhost:8080/",
          "height": 265
        },
        "id": "E0ufO5BTkooz",
        "outputId": "d2c1fac4-1fbe-4993-9ca6-a7153a64a9dc"
      },
      "execution_count": 170,
      "outputs": [
        {
          "output_type": "display_data",
          "data": {
            "text/plain": [
              "<Figure size 432x288 with 1 Axes>"
            ],
            "image/png": "[encoded data removed]"
          },
          "metadata": {}
        }
      ]
    },
    {
      "cell_type": "code",
      "source": [
        "def predict(audio):\n",
        "    prob=model.predict(audio)\n",
        "    for i in range(len(prob[0])):\n",
        "      print(prob[0][i], \"-\", classes[i])\n",
        "    # print(prob)\n",
        "    # print(max(prob[0]))\n",
        "    if (max(prob[0]) > 0.8): \n",
        "      index=np.argmax(prob[0])\n",
        "    else:\n",
        "      return 'silent'\n",
        "    return classes[index]"
      ],
      "metadata": {
        "id": "tbjC1JrkcEnA"
      },
      "execution_count": 171,
      "outputs": []
    },
    {
      "cell_type": "code",
      "source": [
        "samples, sample_rate = librosa.load('/content/drive/MyDrive/command_phai.wav', sr = 22050)\n",
        "\n",
        "if len(samples) <= max_length:\n",
        "  samples = np.pad(samples, (0, max_length - len(samples)%max_length), mode='constant')\n",
        "else:\n",
        "  samples = samples[:max_length]\n",
        "samples = scaler.fit_transform(samples.reshape(-1, 1)).reshape(1, max_length, 1)\n",
        "  \n",
        "predict(samples)"
      ],
      "metadata": {
        "id": "K_fqG2ddk9tL"
      },
      "execution_count": null,
      "outputs": []
    },
    {
      "cell_type": "code",
      "source": [
        "samples, sample_rate = librosa.load('/content/drive/MyDrive/command_a.wav', sr = 22050)\n",
        "print(len(samples))\n",
        "samples = samples[0:30000]\n",
        "# samples, index = librosa.effects.trim(samples, top_db=50, frame_length=256, hop_length=64)\n",
        "samples = librosa.resample(samples, sample_rate, max_length)\n",
        "\n",
        "# print(samples)\n",
        "ipd.Audio(samples,rate=max_length)"
      ],
      "metadata": {
        "id": "oJMJAMadyydg"
      },
      "execution_count": null,
      "outputs": []
    },
    {
      "cell_type": "code",
      "source": [
        "model.save(\"/content/drive/MyDrive/15 (Nhóm có STT 14 trong danh sách)/model_30000.h5\")"
      ],
      "metadata": {
        "id": "EnNNEHn7v7L6"
      },
      "execution_count": null,
      "outputs": []
    },
    {
      "cell_type": "code",
      "source": [
        "from tensorflow import keras\n",
        "model_load = keras.models.load_model(\"/content/drive/MyDrive/15 (Nhóm có STT 14 trong danh sách)/model_30000.h5\")"
      ],
      "metadata": {
        "id": "prkSCRLAwDoZ"
      },
      "execution_count": null,
      "outputs": []
    }
  ]
}